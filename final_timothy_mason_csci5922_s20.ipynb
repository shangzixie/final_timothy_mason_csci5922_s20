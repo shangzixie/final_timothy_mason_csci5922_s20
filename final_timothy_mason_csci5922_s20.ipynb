{
 "cells": [
  {
   "cell_type": "markdown",
   "metadata": {},
   "source": [
    "# CSCI 5922 (Spring 2020) Final Project\n",
    "name: Timothy Mason\n",
    "***\n",
    "Music Genre classification using a CRNN as described in the paper blah, blah, blah...\n",
    "\n",
    "todo: fill in citations and flesh out overview\n",
    "\n",
    "last.fm dataset citation:\n",
    "\n",
    "> @INPROCEEDINGS{Bertin-Mahieux2011,\n",
    "  author = {Thierry Bertin-Mahieux and Daniel P.W. Ellis and Brian Whitman and Paul Lamere},\n",
    "  title = {The Million Song Dataset},\n",
    "  booktitle = {{Proceedings of the 12th International Conference on Music Information\n",
    "\tRetrieval ({ISMIR} 2011)}},\n",
    "  year = {2011},\n",
    "  owner = {thierry},\n",
    "  timestamp = {2010.03.07}\n",
    "}\n",
    "\n",
    "> Additionally, you can mention / link to this web resource:\n",
    "> \n",
    "> Last.fm dataset, the official song tags and song similarity collection for the Million Song\n",
    "> Dataset, available at: http://millionsongdataset.com/lastfm"
   ]
  },
  {
   "cell_type": "markdown",
   "metadata": {},
   "source": [
    "## Hyperparameters"
   ]
  },
  {
   "cell_type": "code",
   "execution_count": 1,
   "metadata": {
    "ExecuteTime": {
     "end_time": "2020-05-05T21:56:14.796036Z",
     "start_time": "2020-05-05T21:56:14.790344Z"
    }
   },
   "outputs": [],
   "source": [
    "min_segments = 252    # Minimum usable segment count\n",
    "pickle_fn = f'./msd_subset_top50_{min_segments}.pickle'\n",
    "\n",
    "input_shape = (12, None, 1)\n",
    "channel_axis = 3\n",
    "freq_axis = 1\n",
    "time_axis = 2\n",
    "\n",
    "# Hyperparms adapted from Choi, et. al for their 3,000,000 parameter size CRNN model\n",
    "CNN_dropout = 0.1\n",
    "# CNN1_N = 169\n",
    "# CNN1_kernel = (3,3)\n",
    "# CNN1_pool = (2,2)\n",
    "\n",
    "CNN2_N = 339\n",
    "CNN2_kernel = (3,3)\n",
    "CNN2_pool = (2,2)\n",
    "\n",
    "CNN3_N = 339\n",
    "CNN3_kernel = (3,3)\n",
    "CNN3_pool = (2,2)\n",
    "\n",
    "CNN4_N = 339\n",
    "CNN4_kernel = (3,3)\n",
    "CNN4_pool = (3,3)\n",
    "\n",
    "RNN_dropout = 0.3\n",
    "RNN1_N = 169\n",
    "RNN2_N = 169"
   ]
  },
  {
   "cell_type": "markdown",
   "metadata": {},
   "source": [
    "### Imports"
   ]
  },
  {
   "cell_type": "code",
   "execution_count": 2,
   "metadata": {
    "ExecuteTime": {
     "end_time": "2020-05-05T21:56:16.984898Z",
     "start_time": "2020-05-05T21:56:16.301160Z"
    }
   },
   "outputs": [],
   "source": [
    "import os\n",
    "import numpy as np\n",
    "import pandas as pd\n",
    "from pathlib import Path\n",
    "from tqdm import tqdm      # for easy and attractive progress bars\n",
    "\n",
    "import hdf5_getters        # https://github.com/tbertinmahieux/MSongsDB/tree/master/PythonSrc\n",
    "# hdf5_getters.py is Copyright 2010, Thierry Bertin-Mahieux\n",
    "# This program is free software: you can redistribute it and/or modify\n",
    "# it under the terms of the GNU General Public License as published by\n",
    "# the Free Software Foundation, either version 3 of the License, or\n",
    "# (at your option) any later version."
   ]
  },
  {
   "cell_type": "markdown",
   "metadata": {},
   "source": [
    "## Import data functions"
   ]
  },
  {
   "cell_type": "code",
   "execution_count": 3,
   "metadata": {
    "ExecuteTime": {
     "end_time": "2020-05-05T21:56:19.412834Z",
     "start_time": "2020-05-05T21:56:19.398150Z"
    }
   },
   "outputs": [],
   "source": [
    "# see http://docs.echonest.com.s3-website-us-east-1.amazonaws.com/_static/AnalyzeDocumentation.pdf for\n",
    "# detailed discussion of the category data items\n",
    "def hdf_tree_to_dataframe(msd_path='./MillionSongSubset/data',\n",
    "                          categories=(\"track_id\",\n",
    "                                      \"artist_name\",          # Name of the artist\n",
    "                                      \"release\",              # Album name\n",
    "                                      \"title\",                # Title of the piece\n",
    "                                      \"year\",                 # year released (unreliable - often 0)\n",
    "#                                       \"analysis_sample_rate\", # sample rate (Hz) for the analysis\n",
    "#                                       \"duration\",             # length of the piece (seconds)\n",
    "#                                       \"tempo\",                # tempo of the piece (avg beats per minute)\n",
    "#                                       \"beats_start\",          # list of time markers (seconds) for beats\n",
    "#                                       \"bars_start\",           # list of time markers (seconds) for bars\n",
    "#                                       \"tatums_start\",         # \"list of tatum markers, in seconds. Tatums \n",
    "#                                                               # represent the lowest regular pulse train that\n",
    "#                                                               # a listener intuitively infers from the timing\n",
    "#                                                               # of perceived musical events (segments).\"\n",
    "#                                       \"segments_start\",       # list of time markers (seconds) for segments\n",
    "                                      \"segments_pitches\",     # list of 12-ary vectors, each contains relative\n",
    "                                                              # strength of the notes (pitches) contained in \n",
    "                                                              # a segment.  0 = strength(0..1) of the C note, \n",
    "                                                              # 1 = strength of C-sharp, \n",
    "                                                              # ... \n",
    "                                                              # 11 = B\n",
    "                                      \"segments_timbre\",      # list of 12-ary vectors, \"timbre is the quality\n",
    "                                                              # of a musical note or sound that distinguishes \n",
    "                                                              # different types of musical instruments, or \n",
    "                                                              # voices. It is a complex notion also referred \n",
    "                                                              # to as sound color, texture, or tone quality, \n",
    "                                                              # and is derived from the shape of a segment’s \n",
    "                                                              # spectro-temporal surface, independently of \n",
    "                                                              # pitch and loudness. \"\n",
    "                                     ), \n",
    "                          first = 0, last = None):\n",
    "    \"\"\"\n",
    "    Walk the directory structure of the provided path, and read data from the\n",
    "    *.h5 files in all subdirectories.\n",
    "\n",
    "    Parameters\n",
    "    ----------\n",
    "    categories: set of keyword strings.  Note:  'track_id' is the index field, so it will always read\n",
    "        that category, whether it is specified or not.\n",
    "    msd_path: The path to the root directory of the MSD dataset\n",
    "    first: Index of the first file to read\n",
    "    last: Index of the last file to read.  If None, then read entire list of files\n",
    "\n",
    "    Returns\n",
    "    -------\n",
    "    a Pandas dataframe object containing the specified categories of MSD data\n",
    "    \"\"\"\n",
    "\n",
    "    file_list = [f for f in Path(msd_path).glob('**/*.h5')]\n",
    "\n",
    "    if last == None:\n",
    "        last = len(file_list)\n",
    "    data = []\n",
    "\n",
    "    for f in tqdm(file_list[first:last], desc=f\"Loading                                      ubset of MSD\"):\n",
    "        h5file = hdf5_getters.open_h5_file_read(f)\n",
    "        d = {}\n",
    "        for c in categories:\n",
    "            t = getattr(hdf5_getters, \"get_\"+c)(h5file)\n",
    "            d[c] = t\n",
    "        h5file.close()\n",
    "        \n",
    "        # Only keep records with at least the minimum number of segments\n",
    "        if len(d['segments_pitches']) >= min_segments:\n",
    "            data.append(d)\n",
    "            \n",
    "    return pd.DataFrame(data)\n",
    "\n",
    "def json_tree_to_dataframe( lfm_path='./lastfm_subset' ):\n",
    "    \"\"\"\n",
    "    Load the tags from all JSON files at the specified directory and its' subdirectories\n",
    "    into a Pandas DataFrame.  Index by track_id and also keep artist and title for more precise matching\n",
    "    to the MSD.  Result is filtered to only return entries which have tags in the top-50.  Assumes that\n",
    "    the list of last.fm top 50 tags is in the file top50_lastfm_tags.csv in the current working directory.\n",
    "    \n",
    "    Parameters\n",
    "    ----------\n",
    "    lfm_path: The path to the root directory of the last.fm dataset\n",
    "\n",
    "    Returns\n",
    "    -------\n",
    "    a Pandas DataFrame object containing the entire dataset, filtered to only contain entries which\n",
    "    have tags in the top 50 of last.fm tags.\n",
    "    \"\"\"\n",
    "    \n",
    "    # load the top 50 tags into a set because set intersection will be an elegant way to only keep those\n",
    "    # tags which are in the top 50.\n",
    "    top50 = set(pd.read_csv('top50_lastfm_tags.csv').Tag)\n",
    "    \n",
    "    # Appending one record at a time to a Pandas DataFrame is inefficient, so build a simple list\n",
    "    # in memory, then create the Pandas DataFrame in one shot from that list\n",
    "    data = []\n",
    "    for file_path in tqdm([f for f in Path(lfm_path).glob('**/*.json')], desc=\"Loading last.fm tags\"):\n",
    "        with open(file_path) as json_data:     # with... syntax benefits from automatic file closing\n",
    "            j = json.load(json_data)\n",
    "            \n",
    "            # change the key for the name of the artist to have consistent naming with the MSD\n",
    "            j['artist_name'] = j.pop('artist') \n",
    "            \n",
    "            if j['tags']:      # skip tag-less entries\n",
    "                # Only keep the tags, and only if they are in the top50 set.  Do the list filtering by\n",
    "                # using set intersection of the top50 set and use column slice feature of a numpy array to\n",
    "                # extract just the tag names.  (The JSON file has both the tag name and an integer number\n",
    "                # for each tag - I don't need that integer number)\n",
    "                t = list(top50.intersection(np.array(j['tags'])[:,0]))\n",
    "                if t:\n",
    "                    j['top50_tags'] = t\n",
    "                    data.append(j)\n",
    "    \n",
    "    return pd.DataFrame(data)[['track_id','artist_name','title','top50_tags']] # only keep the useful bits\n"
   ]
  },
  {
   "cell_type": "markdown",
   "metadata": {},
   "source": [
    "## Load and merge the datasets\n",
    "\n",
    "Loading the MSD subset from the h5 file tree takes several minutes.  Save time on reruns by saving a snapshot\n",
    "of a fully loaded and filtered dataset to a Python pickle file."
   ]
  },
  {
   "cell_type": "code",
   "execution_count": 4,
   "metadata": {
    "ExecuteTime": {
     "end_time": "2020-05-05T21:56:26.005327Z",
     "start_time": "2020-05-05T21:56:25.638557Z"
    }
   },
   "outputs": [],
   "source": [
    "import os.path\n",
    "\n",
    "if os.path.isfile(pickle_fn):\n",
    "    # This dataset has already been generated.  Load the snapshot\n",
    "    df = pd.read_pickle(pickle_fn)\n",
    "else:\n",
    "    # A snapshot is not available for this dataset.  Load it then save the snapshot\n",
    "    df = hdf_tree_to_dataframe().merge( right=json_tree_to_dataframe(), on=('track_id','title','artist_name') )\n",
    "    df.to_pickle(pickle_fn)\n",
    "    print(f\"Created snapshot file {pickle_fn}\")\n"
   ]
  },
  {
   "cell_type": "markdown",
   "metadata": {},
   "source": [
    "### Inspect the final dataset"
   ]
  },
  {
   "cell_type": "code",
   "execution_count": 5,
   "metadata": {
    "ExecuteTime": {
     "end_time": "2020-05-05T21:56:33.063721Z",
     "start_time": "2020-05-05T21:56:32.378418Z"
    }
   },
   "outputs": [
    {
     "data": {
      "text/html": [
       "<div>\n",
       "<style scoped>\n",
       "    .dataframe tbody tr th:only-of-type {\n",
       "        vertical-align: middle;\n",
       "    }\n",
       "\n",
       "    .dataframe tbody tr th {\n",
       "        vertical-align: top;\n",
       "    }\n",
       "\n",
       "    .dataframe thead th {\n",
       "        text-align: right;\n",
       "    }\n",
       "</style>\n",
       "<table border=\"1\" class=\"dataframe\">\n",
       "  <thead>\n",
       "    <tr style=\"text-align: right;\">\n",
       "      <th></th>\n",
       "      <th>track_id</th>\n",
       "      <th>artist_name</th>\n",
       "      <th>release</th>\n",
       "      <th>title</th>\n",
       "      <th>year</th>\n",
       "      <th>segments_pitches</th>\n",
       "      <th>segments_timbre</th>\n",
       "      <th>top50_tags</th>\n",
       "    </tr>\n",
       "  </thead>\n",
       "  <tbody>\n",
       "    <tr>\n",
       "      <th>0</th>\n",
       "      <td>TRARRER128F9328521</td>\n",
       "      <td>Brand X</td>\n",
       "      <td>X Communication : Trilogy II</td>\n",
       "      <td>Liquid Time (composition by John Goodsall)</td>\n",
       "      <td>0</td>\n",
       "      <td>[[0.253, 0.295, 0.256, 0.255, 0.365, 0.256, 0....</td>\n",
       "      <td>[[0.0, 171.13, 9.469, -28.48, 57.491, -50.067,...</td>\n",
       "      <td>[chill]</td>\n",
       "    </tr>\n",
       "    <tr>\n",
       "      <th>1</th>\n",
       "      <td>TRARREF128F422FD96</td>\n",
       "      <td>Dead Kennedys</td>\n",
       "      <td>Milking The Sacred Cow</td>\n",
       "      <td>Halloween</td>\n",
       "      <td>1982</td>\n",
       "      <td>[[0.146, 0.203, 0.219, 0.209, 0.172, 0.123, 0....</td>\n",
       "      <td>[[23.928, -119.362, 33.96, -122.038, 8.715, 18...</td>\n",
       "      <td>[indie, 80s, punk, american, rock, party, alte...</td>\n",
       "    </tr>\n",
       "    <tr>\n",
       "      <th>2</th>\n",
       "      <td>TRARUOP12903CF2384</td>\n",
       "      <td>Shadows Fall</td>\n",
       "      <td>The War Within</td>\n",
       "      <td>What Drives The Weak</td>\n",
       "      <td>2004</td>\n",
       "      <td>[[0.937, 0.557, 0.215, 0.198, 0.112, 0.135, 0....</td>\n",
       "      <td>[[0.0, 171.13, 9.469, -28.48, 57.491, -50.067,...</td>\n",
       "      <td>[metal, hard rock, cool, seen live, 00s, favor...</td>\n",
       "    </tr>\n",
       "    <tr>\n",
       "      <th>3</th>\n",
       "      <td>TRARUHU128F92FDC00</td>\n",
       "      <td>Spoonie Gee</td>\n",
       "      <td>The Sugar Hill Records Story</td>\n",
       "      <td>Spoonie Is Back</td>\n",
       "      <td>0</td>\n",
       "      <td>[[1.0, 0.284, 0.224, 0.217, 0.245, 0.285, 0.38...</td>\n",
       "      <td>[[0.0, 171.13, 9.469, -28.48, 57.491, -50.067,...</td>\n",
       "      <td>[80s]</td>\n",
       "    </tr>\n",
       "    <tr>\n",
       "      <th>4</th>\n",
       "      <td>TRARIRG128F147FC96</td>\n",
       "      <td>Phil Collins</td>\n",
       "      <td>Face Value</td>\n",
       "      <td>I'm Not Moving</td>\n",
       "      <td>1981</td>\n",
       "      <td>[[0.819, 0.683, 0.6, 0.67, 0.291, 0.274, 0.689...</td>\n",
       "      <td>[[0.0, 171.13, 9.469, -28.48, 57.491, -50.067,...</td>\n",
       "      <td>[classic rock, 80s, pop, singer-songwriter, ea...</td>\n",
       "    </tr>\n",
       "    <tr>\n",
       "      <th>...</th>\n",
       "      <td>...</td>\n",
       "      <td>...</td>\n",
       "      <td>...</td>\n",
       "      <td>...</td>\n",
       "      <td>...</td>\n",
       "      <td>...</td>\n",
       "      <td>...</td>\n",
       "      <td>...</td>\n",
       "    </tr>\n",
       "    <tr>\n",
       "      <th>2357</th>\n",
       "      <td>TRBBYOI128F4256732</td>\n",
       "      <td>Black Flag</td>\n",
       "      <td>I Can See You</td>\n",
       "      <td>Out Of This World</td>\n",
       "      <td>1985</td>\n",
       "      <td>[[0.345, 0.254, 0.161, 0.162, 0.25, 0.542, 0.3...</td>\n",
       "      <td>[[0.102, 168.868, 6.486, -31.413, 55.144, -50....</td>\n",
       "      <td>[punk, hard rock, soul]</td>\n",
       "    </tr>\n",
       "    <tr>\n",
       "      <th>2358</th>\n",
       "      <td>TRBBYDT128F14805B4</td>\n",
       "      <td>Phil Collins</td>\n",
       "      <td>Serious Hits... Live!</td>\n",
       "      <td>You Can't Hurry Love (Live)</td>\n",
       "      <td>1990</td>\n",
       "      <td>[[0.521, 0.515, 0.559, 0.631, 0.818, 0.722, 0....</td>\n",
       "      <td>[[33.671, 84.55, 202.282, 2.574, 46.344, 64.34...</td>\n",
       "      <td>[80s, pop, rock]</td>\n",
       "    </tr>\n",
       "    <tr>\n",
       "      <th>2359</th>\n",
       "      <td>TRBBYFJ128F42A22D4</td>\n",
       "      <td>Jim Reeves</td>\n",
       "      <td>Christmas Songbook</td>\n",
       "      <td>Jingle Bells</td>\n",
       "      <td>1963</td>\n",
       "      <td>[[1.0, 0.923, 0.508, 0.49, 0.511, 0.522, 0.548...</td>\n",
       "      <td>[[0.0, 171.13, 9.469, -28.48, 57.491, -50.067,...</td>\n",
       "      <td>[folk, easy listening, country, male vocalists]</td>\n",
       "    </tr>\n",
       "    <tr>\n",
       "      <th>2360</th>\n",
       "      <td>TRBBPGL128F933E34C</td>\n",
       "      <td>Joe Bataan</td>\n",
       "      <td>Call My Name</td>\n",
       "      <td>Ernestine</td>\n",
       "      <td>2005</td>\n",
       "      <td>[[0.568, 1.0, 0.704, 0.628, 0.761, 0.782, 0.60...</td>\n",
       "      <td>[[0.0, 171.13, 9.469, -28.48, 57.491, -50.067,...</td>\n",
       "      <td>[chill, soul]</td>\n",
       "    </tr>\n",
       "    <tr>\n",
       "      <th>2361</th>\n",
       "      <td>TRBBWDJ128F42595D5</td>\n",
       "      <td>U2</td>\n",
       "      <td>October</td>\n",
       "      <td>October</td>\n",
       "      <td>1981</td>\n",
       "      <td>[[0.611, 0.703, 0.542, 0.747, 0.568, 0.662, 0....</td>\n",
       "      <td>[[24.978, 129.582, 102.42, -99.22, 65.22, 167....</td>\n",
       "      <td>[Love, classic rock, instrumental, chill, 80s,...</td>\n",
       "    </tr>\n",
       "  </tbody>\n",
       "</table>\n",
       "<p>2362 rows × 8 columns</p>\n",
       "</div>"
      ],
      "text/plain": [
       "                track_id    artist_name                       release  \\\n",
       "0     TRARRER128F9328521        Brand X  X Communication : Trilogy II   \n",
       "1     TRARREF128F422FD96  Dead Kennedys        Milking The Sacred Cow   \n",
       "2     TRARUOP12903CF2384   Shadows Fall                The War Within   \n",
       "3     TRARUHU128F92FDC00    Spoonie Gee  The Sugar Hill Records Story   \n",
       "4     TRARIRG128F147FC96   Phil Collins                    Face Value   \n",
       "...                  ...            ...                           ...   \n",
       "2357  TRBBYOI128F4256732     Black Flag                 I Can See You   \n",
       "2358  TRBBYDT128F14805B4   Phil Collins         Serious Hits... Live!   \n",
       "2359  TRBBYFJ128F42A22D4     Jim Reeves            Christmas Songbook   \n",
       "2360  TRBBPGL128F933E34C     Joe Bataan                  Call My Name   \n",
       "2361  TRBBWDJ128F42595D5             U2                       October   \n",
       "\n",
       "                                           title  year  \\\n",
       "0     Liquid Time (composition by John Goodsall)     0   \n",
       "1                                      Halloween  1982   \n",
       "2                           What Drives The Weak  2004   \n",
       "3                                Spoonie Is Back     0   \n",
       "4                                 I'm Not Moving  1981   \n",
       "...                                          ...   ...   \n",
       "2357                           Out Of This World  1985   \n",
       "2358                 You Can't Hurry Love (Live)  1990   \n",
       "2359                                Jingle Bells  1963   \n",
       "2360                                   Ernestine  2005   \n",
       "2361                                     October  1981   \n",
       "\n",
       "                                       segments_pitches  \\\n",
       "0     [[0.253, 0.295, 0.256, 0.255, 0.365, 0.256, 0....   \n",
       "1     [[0.146, 0.203, 0.219, 0.209, 0.172, 0.123, 0....   \n",
       "2     [[0.937, 0.557, 0.215, 0.198, 0.112, 0.135, 0....   \n",
       "3     [[1.0, 0.284, 0.224, 0.217, 0.245, 0.285, 0.38...   \n",
       "4     [[0.819, 0.683, 0.6, 0.67, 0.291, 0.274, 0.689...   \n",
       "...                                                 ...   \n",
       "2357  [[0.345, 0.254, 0.161, 0.162, 0.25, 0.542, 0.3...   \n",
       "2358  [[0.521, 0.515, 0.559, 0.631, 0.818, 0.722, 0....   \n",
       "2359  [[1.0, 0.923, 0.508, 0.49, 0.511, 0.522, 0.548...   \n",
       "2360  [[0.568, 1.0, 0.704, 0.628, 0.761, 0.782, 0.60...   \n",
       "2361  [[0.611, 0.703, 0.542, 0.747, 0.568, 0.662, 0....   \n",
       "\n",
       "                                        segments_timbre  \\\n",
       "0     [[0.0, 171.13, 9.469, -28.48, 57.491, -50.067,...   \n",
       "1     [[23.928, -119.362, 33.96, -122.038, 8.715, 18...   \n",
       "2     [[0.0, 171.13, 9.469, -28.48, 57.491, -50.067,...   \n",
       "3     [[0.0, 171.13, 9.469, -28.48, 57.491, -50.067,...   \n",
       "4     [[0.0, 171.13, 9.469, -28.48, 57.491, -50.067,...   \n",
       "...                                                 ...   \n",
       "2357  [[0.102, 168.868, 6.486, -31.413, 55.144, -50....   \n",
       "2358  [[33.671, 84.55, 202.282, 2.574, 46.344, 64.34...   \n",
       "2359  [[0.0, 171.13, 9.469, -28.48, 57.491, -50.067,...   \n",
       "2360  [[0.0, 171.13, 9.469, -28.48, 57.491, -50.067,...   \n",
       "2361  [[24.978, 129.582, 102.42, -99.22, 65.22, 167....   \n",
       "\n",
       "                                             top50_tags  \n",
       "0                                               [chill]  \n",
       "1     [indie, 80s, punk, american, rock, party, alte...  \n",
       "2     [metal, hard rock, cool, seen live, 00s, favor...  \n",
       "3                                                 [80s]  \n",
       "4     [classic rock, 80s, pop, singer-songwriter, ea...  \n",
       "...                                                 ...  \n",
       "2357                            [punk, hard rock, soul]  \n",
       "2358                                   [80s, pop, rock]  \n",
       "2359    [folk, easy listening, country, male vocalists]  \n",
       "2360                                      [chill, soul]  \n",
       "2361  [Love, classic rock, instrumental, chill, 80s,...  \n",
       "\n",
       "[2362 rows x 8 columns]"
      ]
     },
     "execution_count": 5,
     "metadata": {},
     "output_type": "execute_result"
    }
   ],
   "source": [
    "# I'm sure there's a more 'Pythonic' way to do this, but this works in a pinch\n",
    "seg_max=0\n",
    "for i in df.index:\n",
    "    segs,_ = df.segments_pitches[i].shape\n",
    "    if segs>seg_max:\n",
    "        seg_max = segs\n",
    "\n",
    "df"
   ]
  },
  {
   "cell_type": "markdown",
   "metadata": {},
   "source": [
    "### Sample Data Visualization\n",
    "\n",
    "Because it looks cool!"
   ]
  },
  {
   "cell_type": "code",
   "execution_count": 6,
   "metadata": {
    "ExecuteTime": {
     "end_time": "2020-05-05T21:56:44.552222Z",
     "start_time": "2020-05-05T21:56:42.157750Z"
    },
    "scrolled": false
   },
   "outputs": [
    {
     "data": {
      "text/markdown": [
       "### Somebody's Someone\n",
       "\n",
       "Artist: *Lonestar*\n",
       "\n",
       "Release:*Let's Be Us Again*\n",
       "\n",
       "released 2004\n",
       "\n",
       "Tags: ['country', 'Favorite', '00s']"
      ],
      "text/plain": [
       "<IPython.core.display.Markdown object>"
      ]
     },
     "metadata": {},
     "output_type": "display_data"
    },
    {
     "data": {
      "image/png": "[encoded data removed]",
      "text/plain": [
       "<Figure size 1296x576 with 4 Axes>"
      ]
     },
     "metadata": {
      "needs_background": "light"
     },
     "output_type": "display_data"
    }
   ],
   "source": [
    "import matplotlib.pyplot as plt\n",
    "import seaborn as sns\n",
    "from IPython.display import display, Markdown\n",
    "import random\n",
    "\n",
    "%matplotlib inline\n",
    "\n",
    "x = random.randint(0,df.shape[0]-2)\n",
    "\n",
    "for i in df.index[x:x+1]:\n",
    "    name = f'### {df.title[i]}\\n\\nArtist: *{df.artist_name[i]}*\\n\\nRelease:*{df.release[i]}*'\n",
    "    if df.year[i] != 0:\n",
    "        name += f'\\n\\nreleased {df.year[i]}'\n",
    "    name += '\\n\\n'\n",
    "    name += f'Tags: {df.top50_tags[i]}'\n",
    "    display(Markdown(name))\n",
    "    \n",
    "    # plot a scatterplot of the segment starts\n",
    "    plt.figure(figsize=(18,8))\n",
    "\n",
    "    # plot a heatmap of the pitch data\n",
    "    plt.subplot(2,1,1)\n",
    "    ax = sns.heatmap(df.segments_pitches[i].T, \n",
    "                     yticklabels=(\"C\", \"C#\", \"D\", \"D#\", \"E\", \"F\", \"F#\", \"G\",\n",
    "                                 \"G#\", \"A\", \"A#\", \"B\")\n",
    "                    )\n",
    "    ax.set(ylabel=\"Pitches\")\n",
    "    ax.set(xlabel=\"Segment #\")\n",
    "\n",
    "    # plot a heatmap of the timbre data\n",
    "    plt.subplot(2,1,2)\n",
    "    ax = sns.heatmap(df.segments_timbre[i].T, xticklabels=False)\n",
    "    ax.set(ylabel=\"Timbres\")\n",
    "    plt.show()\n",
    "    plt.close()\n",
    "    "
   ]
  },
  {
   "cell_type": "markdown",
   "metadata": {},
   "source": [
    "# Build The CRNN"
   ]
  },
  {
   "cell_type": "code",
   "execution_count": 7,
   "metadata": {
    "ExecuteTime": {
     "end_time": "2020-05-05T21:57:01.182873Z",
     "start_time": "2020-05-05T21:56:57.175602Z"
    },
    "scrolled": true
   },
   "outputs": [
    {
     "name": "stdout",
     "output_type": "stream",
     "text": [
      "Model: \"sequential\"\n",
      "_________________________________________________________________\n",
      "Layer (type)                 Output Shape              Param #   \n",
      "=================================================================\n",
      "bn_0_freq (BatchNormalizatio (None, 12, None, 1)       48        \n",
      "_________________________________________________________________\n",
      "conv2 (Conv2D)               (None, 12, None, 339)     3390      \n",
      "_________________________________________________________________\n",
      "bn2 (BatchNormalization)     (None, 12, None, 339)     1356      \n",
      "_________________________________________________________________\n",
      "elu (ELU)                    (None, 12, None, 339)     0         \n",
      "_________________________________________________________________\n",
      "pool2 (MaxPooling2D)         (None, 6, None, 339)      0         \n",
      "_________________________________________________________________\n",
      "dropout2 (Dropout)           (None, 6, None, 339)      0         \n",
      "_________________________________________________________________\n",
      "conv3 (Conv2D)               (None, 6, None, 339)      1034628   \n",
      "_________________________________________________________________\n",
      "bn3 (BatchNormalization)     (None, 6, None, 339)      1356      \n",
      "_________________________________________________________________\n",
      "elu_1 (ELU)                  (None, 6, None, 339)      0         \n",
      "_________________________________________________________________\n",
      "pool3 (MaxPooling2D)         (None, 3, None, 339)      0         \n",
      "_________________________________________________________________\n",
      "dropout3 (Dropout)           (None, 3, None, 339)      0         \n",
      "_________________________________________________________________\n",
      "conv4 (Conv2D)               (None, 3, None, 339)      1034628   \n",
      "_________________________________________________________________\n",
      "bn4 (BatchNormalization)     (None, 3, None, 339)      1356      \n",
      "_________________________________________________________________\n",
      "elu_2 (ELU)                  (None, 3, None, 339)      0         \n",
      "_________________________________________________________________\n",
      "pool4 (MaxPooling2D)         (None, 1, None, 339)      0         \n",
      "_________________________________________________________________\n",
      "dropout4 (Dropout)           (None, 1, None, 339)      0         \n",
      "_________________________________________________________________\n",
      "reshape (Reshape)            (None, 431, 339)          0         \n",
      "_________________________________________________________________\n",
      "gru1 (GRU)                   (None, 431, 169)          258570    \n",
      "_________________________________________________________________\n",
      "gru2 (GRU)                   (None, 169)               172380    \n",
      "_________________________________________________________________\n",
      "dropout (Dropout)            (None, 169)               0         \n",
      "_________________________________________________________________\n",
      "output (Dense)               (None, 50)                8500      \n",
      "=================================================================\n",
      "Total params: 2,516,212\n",
      "Trainable params: 2,514,154\n",
      "Non-trainable params: 2,058\n",
      "_________________________________________________________________\n"
     ]
    }
   ],
   "source": [
    "try:\n",
    "  # %tensorflow_version magic only exists (and only needed) in Colab.  I control the tensorflow version\n",
    "  # on my local machine by virtue of which package I install in the anaconda v-env\n",
    "  %tensorflow_version 2.x\n",
    "except Exception:\n",
    "  pass\n",
    "\n",
    "import tensorflow as tf\n",
    "from tensorflow.keras import layers\n",
    "#\n",
    "# model adapted from music_tagger_crnn.py at https://github.com/keunwoochoi/music-auto_tagging-keras\n",
    "#\n",
    "\n",
    "model = tf.keras.Sequential()\n",
    "\n",
    "# Input block\n",
    "model.add(layers.Input(shape=input_shape))\n",
    "# model.add(layers.ZeroPadding2D(padding=(0, 37)))\n",
    "model.add(layers.BatchNormalization(axis=freq_axis, name='bn_0_freq'))\n",
    "\n",
    "# First Convolutional Block\n",
    "#   Choi et. al, used 4 CNN blocks, but the data set I'm using is too narrow (12 as opposed to 96) to \n",
    "#   support 4 blocks, so I'm omitting the first block.\n",
    "# model.add(layers.Conv2D(filters=CNN1_N, kernel_size=CNN1_kernel, padding='same', name='conv1'))\n",
    "# model.add(layers.BatchNormalization(axis=channel_axis, name='bn1'))\n",
    "# model.add(layers.ELU())\n",
    "# model.add(layers.MaxPool2D(pool_size=CNN1_pool, strides=CNN1_pool, name='pool1'))\n",
    "# model.add(layers.Dropout(rate=CNN_dropout, name='dropout1'))\n",
    "\n",
    "# Second Convolutional Block\n",
    "model.add(layers.Conv2D(filters=CNN2_N, kernel_size=CNN2_kernel, padding='same', name='conv2'))\n",
    "model.add(layers.BatchNormalization(axis=channel_axis, name='bn2'))\n",
    "model.add(layers.ELU())\n",
    "model.add(layers.MaxPool2D(pool_size=CNN2_pool, strides=CNN2_pool, name='pool2'))\n",
    "model.add(layers.Dropout(rate=CNN_dropout, name='dropout2'))\n",
    "\n",
    "# Third Convolutional Block\n",
    "model.add(layers.Conv2D(filters=CNN3_N, kernel_size=CNN3_kernel, padding='same', name='conv3'))\n",
    "model.add(layers.BatchNormalization(axis=channel_axis, name='bn3'))\n",
    "model.add(layers.ELU())\n",
    "model.add(layers.MaxPool2D(pool_size=CNN3_pool, strides=CNN3_pool, name='pool3'))\n",
    "model.add(layers.Dropout(rate=CNN_dropout, name='dropout3'))\n",
    "\n",
    "# Fourth convolutional Block\n",
    "model.add(layers.Conv2D(filters=CNN4_N, kernel_size=CNN4_kernel, padding='same', name='conv4'))\n",
    "model.add(layers.BatchNormalization(axis=channel_axis, name='bn4'))\n",
    "model.add(layers.ELU())\n",
    "model.add(layers.MaxPool2D(pool_size=CNN4_pool, strides=CNN4_pool, name='pool4'))\n",
    "model.add(layers.Dropout(rate=CNN_dropout, name='dropout4'))\n",
    "\n",
    "# reshaping - \"Integer truncate UP trick\" thanks David Bau, answer #102 at \n",
    "# https://stackoverflow.com/questions/2356501/how-do-you-round-up-a-number-in-python\n",
    "longest_RNN = -(seg_max // -CNN2_pool[1])\n",
    "longest_RNN = -(longest_RNN // -CNN3_pool[1])\n",
    "longest_RNN = -(longest_RNN // -CNN4_pool[1])\n",
    "model.add(layers.Reshape(target_shape=(longest_RNN, CNN4_N)))\n",
    "\n",
    "# RNN (GRU) blocks\n",
    "model.add(layers.GRU(units=RNN1_N, return_sequences=True, name='gru1'))\n",
    "model.add(layers.GRU(units=RNN2_N, return_sequences=False, name='gru2'))\n",
    "model.add(layers.Dropout(rate=RNN_dropout))\n",
    "\n",
    "# Output\n",
    "model.add(layers.Dense(units=50, activation='sigmoid', name='output'))\n"
   ]
  },
  {
   "cell_type": "markdown",
   "metadata": {
    "ExecuteTime": {
     "end_time": "2020-05-05T22:48:36.530704Z",
     "start_time": "2020-05-05T22:48:36.522237Z"
    }
   },
   "source": [
    "## Compile The Model"
   ]
  },
  {
   "cell_type": "code",
   "execution_count": 9,
   "metadata": {
    "ExecuteTime": {
     "end_time": "2020-05-05T22:48:48.541579Z",
     "start_time": "2020-05-05T22:48:48.361354Z"
    }
   },
   "outputs": [
    {
     "name": "stdout",
     "output_type": "stream",
     "text": [
      "Model: \"sequential\"\n",
      "_________________________________________________________________\n",
      "Layer (type)                 Output Shape              Param #   \n",
      "=================================================================\n",
      "bn_0_freq (BatchNormalizatio (None, 12, None, 1)       48        \n",
      "_________________________________________________________________\n",
      "conv2 (Conv2D)               (None, 12, None, 339)     3390      \n",
      "_________________________________________________________________\n",
      "bn2 (BatchNormalization)     (None, 12, None, 339)     1356      \n",
      "_________________________________________________________________\n",
      "elu (ELU)                    (None, 12, None, 339)     0         \n",
      "_________________________________________________________________\n",
      "pool2 (MaxPooling2D)         (None, 6, None, 339)      0         \n",
      "_________________________________________________________________\n",
      "dropout2 (Dropout)           (None, 6, None, 339)      0         \n",
      "_________________________________________________________________\n",
      "conv3 (Conv2D)               (None, 6, None, 339)      1034628   \n",
      "_________________________________________________________________\n",
      "bn3 (BatchNormalization)     (None, 6, None, 339)      1356      \n",
      "_________________________________________________________________\n",
      "elu_1 (ELU)                  (None, 6, None, 339)      0         \n",
      "_________________________________________________________________\n",
      "pool3 (MaxPooling2D)         (None, 3, None, 339)      0         \n",
      "_________________________________________________________________\n",
      "dropout3 (Dropout)           (None, 3, None, 339)      0         \n",
      "_________________________________________________________________\n",
      "conv4 (Conv2D)               (None, 3, None, 339)      1034628   \n",
      "_________________________________________________________________\n",
      "bn4 (BatchNormalization)     (None, 3, None, 339)      1356      \n",
      "_________________________________________________________________\n",
      "elu_2 (ELU)                  (None, 3, None, 339)      0         \n",
      "_________________________________________________________________\n",
      "pool4 (MaxPooling2D)         (None, 1, None, 339)      0         \n",
      "_________________________________________________________________\n",
      "dropout4 (Dropout)           (None, 1, None, 339)      0         \n",
      "_________________________________________________________________\n",
      "reshape (Reshape)            (None, 431, 339)          0         \n",
      "_________________________________________________________________\n",
      "gru1 (GRU)                   (None, 431, 169)          258570    \n",
      "_________________________________________________________________\n",
      "gru2 (GRU)                   (None, 169)               172380    \n",
      "_________________________________________________________________\n",
      "dropout (Dropout)            (None, 169)               0         \n",
      "_________________________________________________________________\n",
      "output (Dense)               (None, 50)                8500      \n",
      "=================================================================\n",
      "Total params: 2,516,212\n",
      "Trainable params: 2,514,154\n",
      "Non-trainable params: 2,058\n",
      "_________________________________________________________________\n"
     ]
    }
   ],
   "source": [
    "#\n",
    "# Compile the model\n",
    "#\n",
    "model.compile(loss='binary_crossentropy',\n",
    "              optimizer=tf.keras.optimizers.Adam(),\n",
    "              metrics=[tf.keras.metrics.AUC()])\n",
    "model.summary()\n"
   ]
  },
  {
   "cell_type": "markdown",
   "metadata": {},
   "source": [
    "## Set up Training Splits"
   ]
  },
  {
   "cell_type": "code",
   "execution_count": 23,
   "metadata": {
    "ExecuteTime": {
     "end_time": "2020-05-05T23:20:01.425916Z",
     "start_time": "2020-05-05T23:20:01.410292Z"
    }
   },
   "outputs": [],
   "source": [
    "from sklearn.model_selection import train_test_split\n",
    "from sklearn.preprocessing import MultiLabelBinarizer\n",
    "\n",
    "X = df.segments_pitches\n",
    "\n",
    "mlb = MultiLabelBinarizer()\n",
    "Y = mlb.fit_transform(df.top50_tags)\n",
    "encoded_classes = tuple(mlb.classes_)\n",
    "\n",
    "# Borrowed from homework 2:\n",
    "# X_train, X_test, Y_train, Y_test = train_test_split(X, Y, test_size=0.1)"
   ]
  },
  {
   "cell_type": "markdown",
   "metadata": {},
   "source": [
    "## Fit the Model"
   ]
  },
  {
   "cell_type": "code",
   "execution_count": 26,
   "metadata": {
    "ExecuteTime": {
     "end_time": "2020-05-05T23:27:52.199174Z",
     "start_time": "2020-05-05T23:27:52.177869Z"
    }
   },
   "outputs": [
    {
     "name": "stdout",
     "output_type": "stream",
     "text": [
      "WARNING:tensorflow:Falling back from v2 loop because of error: Failed to find data adapter that can handle input: <class 'pandas.core.series.Series'>, <class 'NoneType'>\n"
     ]
    },
    {
     "ename": "ValueError",
     "evalue": "Error when checking input: expected input_1 to have 4 dimensions, but got array with shape (2362, 1)",
     "output_type": "error",
     "traceback": [
      "\u001b[0;31m---------------------------------------------------------------------------\u001b[0m",
      "\u001b[0;31mValueError\u001b[0m                                Traceback (most recent call last)",
      "\u001b[0;32m<ipython-input-26-d771f3dab819>\u001b[0m in \u001b[0;36m<module>\u001b[0;34m\u001b[0m\n\u001b[1;32m      4\u001b[0m           \u001b[0mverbose\u001b[0m\u001b[0;34m=\u001b[0m\u001b[0;36m1\u001b[0m\u001b[0;34m,\u001b[0m\u001b[0;34m\u001b[0m\u001b[0;34m\u001b[0m\u001b[0m\n\u001b[1;32m      5\u001b[0m \u001b[0;31m#           use_multiprocessing=True,\u001b[0m\u001b[0;34m\u001b[0m\u001b[0;34m\u001b[0m\u001b[0;34m\u001b[0m\u001b[0m\n\u001b[0;32m----> 6\u001b[0;31m           validation_split=0.05)\n\u001b[0m\u001b[1;32m      7\u001b[0m \u001b[0;34m\u001b[0m\u001b[0m\n\u001b[1;32m      8\u001b[0m \u001b[0mmodel\u001b[0m\u001b[0;34m.\u001b[0m\u001b[0msummary\u001b[0m\u001b[0;34m(\u001b[0m\u001b[0;34m)\u001b[0m\u001b[0;34m\u001b[0m\u001b[0;34m\u001b[0m\u001b[0m\n",
      "\u001b[0;32m~/opt/miniconda3/envs/tensor-37/lib/python3.7/site-packages/tensorflow_core/python/keras/engine/training.py\u001b[0m in \u001b[0;36mfit\u001b[0;34m(self, x, y, batch_size, epochs, verbose, callbacks, validation_split, validation_data, shuffle, class_weight, sample_weight, initial_epoch, steps_per_epoch, validation_steps, validation_freq, max_queue_size, workers, use_multiprocessing, **kwargs)\u001b[0m\n\u001b[1;32m    726\u001b[0m         \u001b[0mmax_queue_size\u001b[0m\u001b[0;34m=\u001b[0m\u001b[0mmax_queue_size\u001b[0m\u001b[0;34m,\u001b[0m\u001b[0;34m\u001b[0m\u001b[0;34m\u001b[0m\u001b[0m\n\u001b[1;32m    727\u001b[0m         \u001b[0mworkers\u001b[0m\u001b[0;34m=\u001b[0m\u001b[0mworkers\u001b[0m\u001b[0;34m,\u001b[0m\u001b[0;34m\u001b[0m\u001b[0;34m\u001b[0m\u001b[0m\n\u001b[0;32m--> 728\u001b[0;31m         use_multiprocessing=use_multiprocessing)\n\u001b[0m\u001b[1;32m    729\u001b[0m \u001b[0;34m\u001b[0m\u001b[0m\n\u001b[1;32m    730\u001b[0m   def evaluate(self,\n",
      "\u001b[0;32m~/opt/miniconda3/envs/tensor-37/lib/python3.7/site-packages/tensorflow_core/python/keras/engine/training_arrays.py\u001b[0m in \u001b[0;36mfit\u001b[0;34m(self, model, x, y, batch_size, epochs, verbose, callbacks, validation_split, validation_data, shuffle, class_weight, sample_weight, initial_epoch, steps_per_epoch, validation_steps, validation_freq, **kwargs)\u001b[0m\n\u001b[1;32m    640\u001b[0m         \u001b[0msteps\u001b[0m\u001b[0;34m=\u001b[0m\u001b[0msteps_per_epoch\u001b[0m\u001b[0;34m,\u001b[0m\u001b[0;34m\u001b[0m\u001b[0;34m\u001b[0m\u001b[0m\n\u001b[1;32m    641\u001b[0m         \u001b[0mvalidation_split\u001b[0m\u001b[0;34m=\u001b[0m\u001b[0mvalidation_split\u001b[0m\u001b[0;34m,\u001b[0m\u001b[0;34m\u001b[0m\u001b[0;34m\u001b[0m\u001b[0m\n\u001b[0;32m--> 642\u001b[0;31m         shuffle=shuffle)\n\u001b[0m\u001b[1;32m    643\u001b[0m \u001b[0;34m\u001b[0m\u001b[0m\n\u001b[1;32m    644\u001b[0m     \u001b[0;32mif\u001b[0m \u001b[0mvalidation_data\u001b[0m\u001b[0;34m:\u001b[0m\u001b[0;34m\u001b[0m\u001b[0;34m\u001b[0m\u001b[0m\n",
      "\u001b[0;32m~/opt/miniconda3/envs/tensor-37/lib/python3.7/site-packages/tensorflow_core/python/keras/engine/training.py\u001b[0m in \u001b[0;36m_standardize_user_data\u001b[0;34m(self, x, y, sample_weight, class_weight, batch_size, check_steps, steps_name, steps, validation_split, shuffle, extract_tensors_from_dataset)\u001b[0m\n\u001b[1;32m   2470\u001b[0m           \u001b[0mfeed_input_shapes\u001b[0m\u001b[0;34m,\u001b[0m\u001b[0;34m\u001b[0m\u001b[0;34m\u001b[0m\u001b[0m\n\u001b[1;32m   2471\u001b[0m           \u001b[0mcheck_batch_axis\u001b[0m\u001b[0;34m=\u001b[0m\u001b[0;32mFalse\u001b[0m\u001b[0;34m,\u001b[0m  \u001b[0;31m# Don't enforce the batch size.\u001b[0m\u001b[0;34m\u001b[0m\u001b[0;34m\u001b[0m\u001b[0m\n\u001b[0;32m-> 2472\u001b[0;31m           exception_prefix='input')\n\u001b[0m\u001b[1;32m   2473\u001b[0m \u001b[0;34m\u001b[0m\u001b[0m\n\u001b[1;32m   2474\u001b[0m     \u001b[0;31m# Get typespecs for the input data and sanitize it if necessary.\u001b[0m\u001b[0;34m\u001b[0m\u001b[0;34m\u001b[0m\u001b[0;34m\u001b[0m\u001b[0m\n",
      "\u001b[0;32m~/opt/miniconda3/envs/tensor-37/lib/python3.7/site-packages/tensorflow_core/python/keras/engine/training_utils.py\u001b[0m in \u001b[0;36mstandardize_input_data\u001b[0;34m(data, names, shapes, check_batch_axis, exception_prefix)\u001b[0m\n\u001b[1;32m    563\u001b[0m                            \u001b[0;34m': expected '\u001b[0m \u001b[0;34m+\u001b[0m \u001b[0mnames\u001b[0m\u001b[0;34m[\u001b[0m\u001b[0mi\u001b[0m\u001b[0;34m]\u001b[0m \u001b[0;34m+\u001b[0m \u001b[0;34m' to have '\u001b[0m \u001b[0;34m+\u001b[0m\u001b[0;34m\u001b[0m\u001b[0;34m\u001b[0m\u001b[0m\n\u001b[1;32m    564\u001b[0m                            \u001b[0mstr\u001b[0m\u001b[0;34m(\u001b[0m\u001b[0mlen\u001b[0m\u001b[0;34m(\u001b[0m\u001b[0mshape\u001b[0m\u001b[0;34m)\u001b[0m\u001b[0;34m)\u001b[0m \u001b[0;34m+\u001b[0m \u001b[0;34m' dimensions, but got array '\u001b[0m\u001b[0;34m\u001b[0m\u001b[0;34m\u001b[0m\u001b[0m\n\u001b[0;32m--> 565\u001b[0;31m                            'with shape ' + str(data_shape))\n\u001b[0m\u001b[1;32m    566\u001b[0m         \u001b[0;32mif\u001b[0m \u001b[0;32mnot\u001b[0m \u001b[0mcheck_batch_axis\u001b[0m\u001b[0;34m:\u001b[0m\u001b[0;34m\u001b[0m\u001b[0;34m\u001b[0m\u001b[0m\n\u001b[1;32m    567\u001b[0m           \u001b[0mdata_shape\u001b[0m \u001b[0;34m=\u001b[0m \u001b[0mdata_shape\u001b[0m\u001b[0;34m[\u001b[0m\u001b[0;36m1\u001b[0m\u001b[0;34m:\u001b[0m\u001b[0;34m]\u001b[0m\u001b[0;34m\u001b[0m\u001b[0;34m\u001b[0m\u001b[0m\n",
      "\u001b[0;31mValueError\u001b[0m: Error when checking input: expected input_1 to have 4 dimensions, but got array with shape (2362, 1)"
     ]
    }
   ],
   "source": [
    "model.fit(X, Y,\n",
    "          batch_size=128,\n",
    "          epochs=50,\n",
    "          verbose=1,\n",
    "#           use_multiprocessing=True,\n",
    "          validation_split=0.05)\n",
    "\n",
    "model.summary()"
   ]
  },
  {
   "cell_type": "code",
   "execution_count": null,
   "metadata": {},
   "outputs": [],
   "source": []
  }
 ],
 "metadata": {
  "kernelspec": {
   "display_name": "Python 3",
   "language": "python",
   "name": "python3"
  },
  "language_info": {
   "codemirror_mode": {
    "name": "ipython",
    "version": 3
   },
   "file_extension": ".py",
   "mimetype": "text/x-python",
   "name": "python",
   "nbconvert_exporter": "python",
   "pygments_lexer": "ipython3",
   "version": "3.7.7"
  },
  "latex_envs": {
   "LaTeX_envs_menu_present": true,
   "autoclose": false,
   "autocomplete": true,
   "bibliofile": "biblio.bib",
   "cite_by": "apalike",
   "current_citInitial": 1,
   "eqLabelWithNumbers": true,
   "eqNumInitial": 1,
   "hotkeys": {
    "equation": "Ctrl-E",
    "itemize": "Ctrl-I"
   },
   "labels_anchors": false,
   "latex_user_defs": false,
   "report_style_numbering": false,
   "user_envs_cfg": false
  },
  "toc": {
   "base_numbering": 1,
   "nav_menu": {},
   "number_sections": true,
   "sideBar": true,
   "skip_h1_title": false,
   "title_cell": "Table of Contents",
   "title_sidebar": "Contents",
   "toc_cell": false,
   "toc_position": {},
   "toc_section_display": true,
   "toc_window_display": false
  },
  "varInspector": {
   "cols": {
    "lenName": 16,
    "lenType": 16,
    "lenVar": 40
   },
   "kernels_config": {
    "python": {
     "delete_cmd_postfix": "",
     "delete_cmd_prefix": "del ",
     "library": "var_list.py",
     "varRefreshCmd": "print(var_dic_list())"
    },
    "r": {
     "delete_cmd_postfix": ") ",
     "delete_cmd_prefix": "rm(",
     "library": "var_list.r",
     "varRefreshCmd": "cat(var_dic_list()) "
    }
   },
   "position": {
    "height": "870px",
    "left": "1550px",
    "right": "20px",
    "top": "120px",
    "width": "350px"
   },
   "types_to_exclude": [
    "module",
    "function",
    "builtin_function_or_method",
    "instance",
    "_Feature"
   ],
   "window_display": false
  }
 },
 "nbformat": 4,
 "nbformat_minor": 4
}
